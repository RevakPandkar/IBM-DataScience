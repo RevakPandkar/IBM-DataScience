{
  "cells": [
    {
      "cell_type": "markdown",
      "id": "89146120-9477-464a-8378-8d870097d5f0",
      "metadata": {},
      "source": [
        "# Data Science Tools and Ecosystem"
      ]
    },
    {
      "cell_type": "markdown",
      "id": "1778c380-eeaa-475e-b627-4b321a0287c1",
      "metadata": {},
      "source": [
        "In this notebook, Data Science Tools and Ecosystem are summarized."
      ]
    },
    {
      "cell_type": "markdown",
      "id": "1ec63eed-e421-4941-9b64-3ff481cd3413",
      "metadata": {},
      "source": [
        "Some of the popular languages that Data Scientists use are:\n",
        "1. Python\n",
        "2. R\n",
        "3. SQL\n",
        "4. Ruby"
      ]
    },
    {
      "cell_type": "markdown",
      "id": "83f764cb-6587-4b77-a5c2-b2e5dee88642",
      "metadata": {},
      "source": [
        "Some of the commonly used libraries used by Data Scientists include:\n",
        "- Keras\n",
        "- Pandas\n",
        "- Vegas\n",
        "- Matplotlib\n",
        "- Numpy"
      ]
    },
    {
      "cell_type": "markdown",
      "id": "5760ad0b-4e61-441c-b0bc-bb1a697e422c",
      "metadata": {},
      "source": [
        "## Data Science Tools\n",
        "\n",
        "| TOOL |\n",
        "|-------------|\n",
        "| Jupyter Notebook |\n",
        "| Anaconda |\n",
        "| Spyder |\n",
        "| RStudio |"
      ]
    },
    {
      "cell_type": "markdown",
      "id": "f596aa7c-d041-43da-a50b-1c19899847e2",
      "metadata": {},
      "source": [
        "### Below are a few examples of evaluating arithmetic expressions in Python"
      ]
    },
    {
      "cell_type": "code",
      "execution_count": 2,
      "id": "eb026374-5350-495c-9cc9-37df4d2d15f8",
      "metadata": {
        "trusted": true
      },
      "outputs": [
        {
          "data": {
            "text/plain": [
              "17"
            ]
          },
          "execution_count": 2,
          "metadata": {},
          "output_type": "execute_result"
        }
      ],
      "source": [
        "# This a simple arithmetic expression to mutiply then add integers\n",
        "(3*4)+5"
      ]
    },
    {
      "cell_type": "code",
      "execution_count": 3,
      "id": "20550075-5f36-4e3c-9821-fa0007bafeca",
      "metadata": {
        "trusted": true
      },
      "outputs": [
        {
          "data": {
            "text/plain": [
              "3.3333333333333335"
            ]
          },
          "execution_count": 3,
          "metadata": {},
          "output_type": "execute_result"
        }
      ],
      "source": [
        "# This will convert 200 minutes to hours by diving by 60\n",
        "200/60"
      ]
    },
    {
      "cell_type": "markdown",
      "id": "23172944-54cf-4176-8953-657fd2568318",
      "metadata": {},
      "source": [
        "**Objectives:**\n",
        "- Understanding tools for data science\n",
        "- Learning Libraries\n",
        "- Performing arithmetic operations\n",
        "- Learning about columns and tables"
      ]
    },
    {
      "cell_type": "markdown",
      "id": "ec82f1f4-8719-421f-a6ff-9656a1f29d11",
      "metadata": {},
      "source": [
        "## Author\n",
        "Revak Pandkar"
      ]
    }
  ],
  "metadata": {
    "kernelspec": {
      "display_name": "Python (Pyodide)",
      "language": "python",
      "name": "python"
    },
    "language_info": {
      "codemirror_mode": {
        "name": "python",
        "version": 3
      },
      "file_extension": ".py",
      "mimetype": "text/x-python",
      "name": "python",
      "nbconvert_exporter": "python",
      "pygments_lexer": "ipython3",
      "version": "3.8"
    }
  },
  "nbformat": 4,
  "nbformat_minor": 5
}
